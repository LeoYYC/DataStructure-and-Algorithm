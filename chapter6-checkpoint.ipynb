{
 "cells": [
  {
   "cell_type": "markdown",
   "metadata": {},
   "source": [
    "# 第六章  实训"
   ]
  },
  {
   "cell_type": "markdown",
   "metadata": {},
   "source": [
    "## 实训1：使用sklearn处理wine和wine_quality 数据集"
   ]
  },
  {
   "cell_type": "code",
   "execution_count": 1,
   "metadata": {},
   "outputs": [],
   "source": [
    "import pandas as pd\n",
    "import numpy as np "
   ]
  },
  {
   "cell_type": "code",
   "execution_count": 2,
   "metadata": {},
   "outputs": [
    {
     "name": "stdout",
     "output_type": "stream",
     "text": [
      "使用read_csv读取的wine数据表的长度为： 178\n"
     ]
    },
    {
     "data": {
      "text/html": [
       "<div>\n",
       "<style scoped>\n",
       "    .dataframe tbody tr th:only-of-type {\n",
       "        vertical-align: middle;\n",
       "    }\n",
       "\n",
       "    .dataframe tbody tr th {\n",
       "        vertical-align: top;\n",
       "    }\n",
       "\n",
       "    .dataframe thead th {\n",
       "        text-align: right;\n",
       "    }\n",
       "</style>\n",
       "<table border=\"1\" class=\"dataframe\">\n",
       "  <thead>\n",
       "    <tr style=\"text-align: right;\">\n",
       "      <th></th>\n",
       "      <th>Class</th>\n",
       "      <th>Alcohol</th>\n",
       "      <th>Malic_acid</th>\n",
       "      <th>Ash</th>\n",
       "      <th>Alcalinity_of_ash</th>\n",
       "      <th>Magnesium</th>\n",
       "      <th>Total_phenols</th>\n",
       "      <th>Flavanoids</th>\n",
       "      <th>Nonflavanoid_phenols</th>\n",
       "      <th>Proanthocyanins</th>\n",
       "      <th>Color_intensity</th>\n",
       "      <th>Hue</th>\n",
       "      <th>OD280/OD315_of_diluted_wines</th>\n",
       "      <th>Proline</th>\n",
       "    </tr>\n",
       "  </thead>\n",
       "  <tbody>\n",
       "    <tr>\n",
       "      <th>0</th>\n",
       "      <td>1</td>\n",
       "      <td>14.23</td>\n",
       "      <td>1.71</td>\n",
       "      <td>2.43</td>\n",
       "      <td>15.6</td>\n",
       "      <td>127</td>\n",
       "      <td>2.80</td>\n",
       "      <td>3.06</td>\n",
       "      <td>0.28</td>\n",
       "      <td>2.29</td>\n",
       "      <td>5.64</td>\n",
       "      <td>1.04</td>\n",
       "      <td>3.92</td>\n",
       "      <td>1065</td>\n",
       "    </tr>\n",
       "    <tr>\n",
       "      <th>1</th>\n",
       "      <td>1</td>\n",
       "      <td>13.20</td>\n",
       "      <td>1.78</td>\n",
       "      <td>2.14</td>\n",
       "      <td>11.2</td>\n",
       "      <td>100</td>\n",
       "      <td>2.65</td>\n",
       "      <td>2.76</td>\n",
       "      <td>0.26</td>\n",
       "      <td>1.28</td>\n",
       "      <td>4.38</td>\n",
       "      <td>1.05</td>\n",
       "      <td>3.40</td>\n",
       "      <td>1050</td>\n",
       "    </tr>\n",
       "    <tr>\n",
       "      <th>2</th>\n",
       "      <td>1</td>\n",
       "      <td>13.16</td>\n",
       "      <td>2.36</td>\n",
       "      <td>2.67</td>\n",
       "      <td>18.6</td>\n",
       "      <td>101</td>\n",
       "      <td>2.80</td>\n",
       "      <td>3.24</td>\n",
       "      <td>0.30</td>\n",
       "      <td>2.81</td>\n",
       "      <td>5.68</td>\n",
       "      <td>1.03</td>\n",
       "      <td>3.17</td>\n",
       "      <td>1185</td>\n",
       "    </tr>\n",
       "    <tr>\n",
       "      <th>3</th>\n",
       "      <td>1</td>\n",
       "      <td>14.37</td>\n",
       "      <td>1.95</td>\n",
       "      <td>2.50</td>\n",
       "      <td>16.8</td>\n",
       "      <td>113</td>\n",
       "      <td>3.85</td>\n",
       "      <td>3.49</td>\n",
       "      <td>0.24</td>\n",
       "      <td>2.18</td>\n",
       "      <td>7.80</td>\n",
       "      <td>0.86</td>\n",
       "      <td>3.45</td>\n",
       "      <td>1480</td>\n",
       "    </tr>\n",
       "    <tr>\n",
       "      <th>4</th>\n",
       "      <td>1</td>\n",
       "      <td>13.24</td>\n",
       "      <td>2.59</td>\n",
       "      <td>2.87</td>\n",
       "      <td>21.0</td>\n",
       "      <td>118</td>\n",
       "      <td>2.80</td>\n",
       "      <td>2.69</td>\n",
       "      <td>0.39</td>\n",
       "      <td>1.82</td>\n",
       "      <td>4.32</td>\n",
       "      <td>1.04</td>\n",
       "      <td>2.93</td>\n",
       "      <td>735</td>\n",
       "    </tr>\n",
       "  </tbody>\n",
       "</table>\n",
       "</div>"
      ],
      "text/plain": [
       "   Class  Alcohol  Malic_acid   Ash  Alcalinity_of_ash  Magnesium  \\\n",
       "0      1    14.23        1.71  2.43               15.6        127   \n",
       "1      1    13.20        1.78  2.14               11.2        100   \n",
       "2      1    13.16        2.36  2.67               18.6        101   \n",
       "3      1    14.37        1.95  2.50               16.8        113   \n",
       "4      1    13.24        2.59  2.87               21.0        118   \n",
       "\n",
       "   Total_phenols  Flavanoids  Nonflavanoid_phenols  Proanthocyanins  \\\n",
       "0           2.80        3.06                  0.28             2.29   \n",
       "1           2.65        2.76                  0.26             1.28   \n",
       "2           2.80        3.24                  0.30             2.81   \n",
       "3           3.85        3.49                  0.24             2.18   \n",
       "4           2.80        2.69                  0.39             1.82   \n",
       "\n",
       "   Color_intensity   Hue  OD280/OD315_of_diluted_wines  Proline  \n",
       "0             5.64  1.04                          3.92     1065  \n",
       "1             4.38  1.05                          3.40     1050  \n",
       "2             5.68  1.03                          3.17     1185  \n",
       "3             7.80  0.86                          3.45     1480  \n",
       "4             4.32  1.04                          2.93      735  "
      ]
     },
     "execution_count": 2,
     "metadata": {},
     "output_type": "execute_result"
    }
   ],
   "source": [
    "wine = pd.read_csv('wine.csv',encoding='utf-8') \n",
    "print('使用read_csv读取的wine数据表的长度为：',len(wine))\n",
    "\n",
    "wine.head()"
   ]
  },
  {
   "cell_type": "code",
   "execution_count": 3,
   "metadata": {},
   "outputs": [
    {
     "name": "stdout",
     "output_type": "stream",
     "text": [
      "使用read_csv读取的winequality数据表的长度为： 1599\n"
     ]
    },
    {
     "data": {
      "text/html": [
       "<div>\n",
       "<style scoped>\n",
       "    .dataframe tbody tr th:only-of-type {\n",
       "        vertical-align: middle;\n",
       "    }\n",
       "\n",
       "    .dataframe tbody tr th {\n",
       "        vertical-align: top;\n",
       "    }\n",
       "\n",
       "    .dataframe thead th {\n",
       "        text-align: right;\n",
       "    }\n",
       "</style>\n",
       "<table border=\"1\" class=\"dataframe\">\n",
       "  <thead>\n",
       "    <tr style=\"text-align: right;\">\n",
       "      <th></th>\n",
       "      <th>fixed acidity</th>\n",
       "      <th>volatile acidity</th>\n",
       "      <th>citric acid</th>\n",
       "      <th>residual sugar</th>\n",
       "      <th>chlorides</th>\n",
       "      <th>free sulfur dioxide</th>\n",
       "      <th>total sulfur dioxide</th>\n",
       "      <th>density</th>\n",
       "      <th>pH</th>\n",
       "      <th>sulphates</th>\n",
       "      <th>alcohol</th>\n",
       "      <th>quality</th>\n",
       "    </tr>\n",
       "  </thead>\n",
       "  <tbody>\n",
       "    <tr>\n",
       "      <th>0</th>\n",
       "      <td>7.4</td>\n",
       "      <td>0.70</td>\n",
       "      <td>0.00</td>\n",
       "      <td>1.9</td>\n",
       "      <td>0.076</td>\n",
       "      <td>11.0</td>\n",
       "      <td>34.0</td>\n",
       "      <td>0.9978</td>\n",
       "      <td>3.51</td>\n",
       "      <td>0.56</td>\n",
       "      <td>9.4</td>\n",
       "      <td>5</td>\n",
       "    </tr>\n",
       "    <tr>\n",
       "      <th>1</th>\n",
       "      <td>7.8</td>\n",
       "      <td>0.88</td>\n",
       "      <td>0.00</td>\n",
       "      <td>2.6</td>\n",
       "      <td>0.098</td>\n",
       "      <td>25.0</td>\n",
       "      <td>67.0</td>\n",
       "      <td>0.9968</td>\n",
       "      <td>3.20</td>\n",
       "      <td>0.68</td>\n",
       "      <td>9.8</td>\n",
       "      <td>5</td>\n",
       "    </tr>\n",
       "    <tr>\n",
       "      <th>2</th>\n",
       "      <td>7.8</td>\n",
       "      <td>0.76</td>\n",
       "      <td>0.04</td>\n",
       "      <td>2.3</td>\n",
       "      <td>0.092</td>\n",
       "      <td>15.0</td>\n",
       "      <td>54.0</td>\n",
       "      <td>0.9970</td>\n",
       "      <td>3.26</td>\n",
       "      <td>0.65</td>\n",
       "      <td>9.8</td>\n",
       "      <td>5</td>\n",
       "    </tr>\n",
       "    <tr>\n",
       "      <th>3</th>\n",
       "      <td>11.2</td>\n",
       "      <td>0.28</td>\n",
       "      <td>0.56</td>\n",
       "      <td>1.9</td>\n",
       "      <td>0.075</td>\n",
       "      <td>17.0</td>\n",
       "      <td>60.0</td>\n",
       "      <td>0.9980</td>\n",
       "      <td>3.16</td>\n",
       "      <td>0.58</td>\n",
       "      <td>9.8</td>\n",
       "      <td>6</td>\n",
       "    </tr>\n",
       "    <tr>\n",
       "      <th>4</th>\n",
       "      <td>7.4</td>\n",
       "      <td>0.70</td>\n",
       "      <td>0.00</td>\n",
       "      <td>1.9</td>\n",
       "      <td>0.076</td>\n",
       "      <td>11.0</td>\n",
       "      <td>34.0</td>\n",
       "      <td>0.9978</td>\n",
       "      <td>3.51</td>\n",
       "      <td>0.56</td>\n",
       "      <td>9.4</td>\n",
       "      <td>5</td>\n",
       "    </tr>\n",
       "  </tbody>\n",
       "</table>\n",
       "</div>"
      ],
      "text/plain": [
       "   fixed acidity  volatile acidity  citric acid  residual sugar  chlorides  \\\n",
       "0            7.4              0.70         0.00             1.9      0.076   \n",
       "1            7.8              0.88         0.00             2.6      0.098   \n",
       "2            7.8              0.76         0.04             2.3      0.092   \n",
       "3           11.2              0.28         0.56             1.9      0.075   \n",
       "4            7.4              0.70         0.00             1.9      0.076   \n",
       "\n",
       "   free sulfur dioxide  total sulfur dioxide  density    pH  sulphates  \\\n",
       "0                 11.0                  34.0   0.9978  3.51       0.56   \n",
       "1                 25.0                  67.0   0.9968  3.20       0.68   \n",
       "2                 15.0                  54.0   0.9970  3.26       0.65   \n",
       "3                 17.0                  60.0   0.9980  3.16       0.58   \n",
       "4                 11.0                  34.0   0.9978  3.51       0.56   \n",
       "\n",
       "   alcohol  quality  \n",
       "0      9.4        5  \n",
       "1      9.8        5  \n",
       "2      9.8        5  \n",
       "3      9.8        6  \n",
       "4      9.4        5  "
      ]
     },
     "execution_count": 3,
     "metadata": {},
     "output_type": "execute_result"
    }
   ],
   "source": [
    "winequality = pd.read_csv('winequality.csv',encoding='utf-8',sep=\";\") \n",
    "print('使用read_csv读取的winequality数据表的长度为：',len(winequality))\n",
    "\n",
    "winequality.head()"
   ]
  },
  {
   "cell_type": "code",
   "execution_count": 4,
   "metadata": {},
   "outputs": [
    {
     "name": "stdout",
     "output_type": "stream",
     "text": [
      "wine数据为：\n",
      "    Alcohol  Malic_acid   Ash  Alcalinity_of_ash  Magnesium  Total_phenols  \\\n",
      "0    14.23        1.71  2.43               15.6        127           2.80   \n",
      "1    13.20        1.78  2.14               11.2        100           2.65   \n",
      "2    13.16        2.36  2.67               18.6        101           2.80   \n",
      "3    14.37        1.95  2.50               16.8        113           3.85   \n",
      "4    13.24        2.59  2.87               21.0        118           2.80   \n",
      "\n",
      "   Flavanoids  Nonflavanoid_phenols  Proanthocyanins  Color_intensity   Hue  \\\n",
      "0        3.06                  0.28             2.29             5.64  1.04   \n",
      "1        2.76                  0.26             1.28             4.38  1.05   \n",
      "2        3.24                  0.30             2.81             5.68  1.03   \n",
      "3        3.49                  0.24             2.18             7.80  0.86   \n",
      "4        2.69                  0.39             1.82             4.32  1.04   \n",
      "\n",
      "   OD280/OD315_of_diluted_wines  Proline  \n",
      "0                          3.92     1065  \n",
      "1                          3.40     1050  \n",
      "2                          3.17     1185  \n",
      "3                          3.45     1480  \n",
      "4                          2.93      735  \n",
      "\n",
      "wine标签为：\n",
      " 0    1\n",
      "1    1\n",
      "2    1\n",
      "3    1\n",
      "4    1\n",
      "Name: Class, dtype: int64\n"
     ]
    }
   ],
   "source": [
    "#将wine数据集的数据和标签拆分开\n",
    "wine_data = wine.iloc[:,1:]\n",
    "print(\"wine数据为：\\n\", wine_data.head())\n",
    "wine_target = wine.iloc[:,0]\n",
    "print(\"\\nwine标签为：\\n\", wine_target.head())"
   ]
  },
  {
   "cell_type": "code",
   "execution_count": 5,
   "metadata": {},
   "outputs": [
    {
     "name": "stdout",
     "output_type": "stream",
     "text": [
      "wine_qualiy数据为：\n",
      "    fixed acidity  volatile acidity  citric acid  residual sugar  chlorides  \\\n",
      "0            7.4              0.70         0.00             1.9      0.076   \n",
      "1            7.8              0.88         0.00             2.6      0.098   \n",
      "2            7.8              0.76         0.04             2.3      0.092   \n",
      "3           11.2              0.28         0.56             1.9      0.075   \n",
      "4            7.4              0.70         0.00             1.9      0.076   \n",
      "\n",
      "   free sulfur dioxide  total sulfur dioxide  density    pH  sulphates  \\\n",
      "0                 11.0                  34.0   0.9978  3.51       0.56   \n",
      "1                 25.0                  67.0   0.9968  3.20       0.68   \n",
      "2                 15.0                  54.0   0.9970  3.26       0.65   \n",
      "3                 17.0                  60.0   0.9980  3.16       0.58   \n",
      "4                 11.0                  34.0   0.9978  3.51       0.56   \n",
      "\n",
      "   alcohol  \n",
      "0      9.4  \n",
      "1      9.8  \n",
      "2      9.8  \n",
      "3      9.8  \n",
      "4      9.4  \n",
      "\n",
      "wine_qualiy标签为：\n",
      " 0    5\n",
      "1    5\n",
      "2    5\n",
      "3    6\n",
      "4    5\n",
      "Name: quality, dtype: int64\n"
     ]
    }
   ],
   "source": [
    "#将wine_qualiy数据集的数据和标签拆分开\n",
    "winequality_data = winequality.iloc[:,:-1]\n",
    "print(\"wine_qualiy数据为：\\n\", winequality_data.head())\n",
    "winequality_target = winequality.iloc[:,-1]\n",
    "print(\"\\nwine_qualiy标签为：\\n\", winequality_target.head())"
   ]
  },
  {
   "cell_type": "code",
   "execution_count": 6,
   "metadata": {},
   "outputs": [
    {
     "name": "stdout",
     "output_type": "stream",
     "text": [
      "原始wine_quality数据集数据的形状为： (1599, 11)\n",
      "原始wine_quality数据集标签的形状为： (1599,)\n",
      "训练集数据的形状为： (1279, 11)\n",
      "测试集数据的形状为： (320, 11)\n"
     ]
    }
   ],
   "source": [
    "#将wine_quality数据集划分为训练集和测试集\n",
    "\n",
    "print('原始wine_quality数据集数据的形状为：',winequality_data.shape)\n",
    "print('原始wine_quality数据集标签的形状为：',winequality_target.shape)\n",
    "\n",
    "from sklearn.model_selection import train_test_split\n",
    "\n",
    "winequality_data_train, winequality_data_test, winequality_target_train, winequality_target_test = \\\n",
    "    train_test_split(winequality_data, winequality_target, test_size=0.2, random_state=231)\n",
    "print('训练集数据的形状为：',winequality_data_train.shape)\n",
    "print('测试集数据的形状为：',winequality_data_test.shape)"
   ]
  },
  {
   "cell_type": "code",
   "execution_count": 7,
   "metadata": {},
   "outputs": [
    {
     "name": "stdout",
     "output_type": "stream",
     "text": [
      "原始wine数据集数据的形状为： (178, 13)\n",
      "原始wine数据集标签的形状为： (178,)\n",
      "训练集数据的形状为： (142, 13)\n",
      "测试集数据的形状为： (36, 13)\n"
     ]
    }
   ],
   "source": [
    "#将wine数据集划分为训练集和测试集\n",
    "\n",
    "print('原始wine数据集数据的形状为：',wine_data.shape)\n",
    "print('原始wine数据集标签的形状为：',wine_target.shape)\n",
    "\n",
    "wine_data_train, wine_data_test, wine_target_train, wine_target_test = \\\n",
    "    train_test_split(wine_data, wine_target, test_size=0.2, random_state=231)\n",
    "print('训练集数据的形状为：',wine_data_train.shape)\n",
    "print('测试集数据的形状为：',wine_data_test.shape)"
   ]
  },
  {
   "cell_type": "code",
   "execution_count": 8,
   "metadata": {},
   "outputs": [],
   "source": [
    "#标准差标准化wine数据集\n",
    "\n",
    "from sklearn.preprocessing import StandardScaler\n",
    "wine_stdScaler = StandardScaler().fit(wine_data_train) ##生成规则\n",
    "wine_train_stdScaler = wine_stdScaler.transform(wine_data_train) ##将规则应用于训练集\n",
    "wine_test_stdScaler = wine_stdScaler.transform(wine_data_test) ##将规则应用于测试集\n",
    "\n",
    "# print('标准差标准化前训练集数据的最小值为：\\n',np.min(wine_data_train))\n",
    "# print('\\n标准差标准化后训练集数据的最小值为：\\n',np.min(wine_trainScaler))\n",
    "# print('\\n标准差标准化前训练集数据的最大值为：\\n',np.max(wine_data_train))\n",
    "# print('\\n标准差标准化后训练集数据的最大值为：\\n',np.max(wine_trainScaler))\n",
    "# print('\\n标准差标准化前测试集数据的最小值为：\\n',np.min(wine_data_test))\n",
    "# print('\\n标准差标准化后测试集数据的最小值为：\\n',np.min(wine_testScaler))\n",
    "# print('\\n标准差标准化前测试集数据的最大值为：\\n',np.max(wine_data_test))\n",
    "# print('\\n标准差标准化后测试集数据的最大值为：\\n',np.max(wine_testScaler))\n"
   ]
  },
  {
   "cell_type": "code",
   "execution_count": 9,
   "metadata": {},
   "outputs": [],
   "source": [
    "#标准差标准化wine_qualiy数据集\n",
    "\n",
    "# from sklearn.preprocessing import MinMaxScaler\n",
    "winequality_stdScaler = StandardScaler().fit(winequality_data_train) ##生成规则\n",
    "winequality_train_stdScaler = winequality_stdScaler.transform(winequality_data_train) ##将规则应用于训练集\n",
    "winequality_test_stdScaler = winequality_stdScaler.transform(winequality_data_test) ##将规则应用于测试集\n",
    "\n",
    "# print('标准差标准化前训练集数据的最小值为：\\n',np.min(winequality_data_train))\n",
    "# print('\\n标准离差标准化后训练集数据的最小值为：\\n',np.min(winequality_trainScaler))\n",
    "# print('\\n标准差标准化前训练集数据的最大值为：\\n',np.max(winequality_data_train))\n",
    "# print('\\n标准差标准化后训练集数据的最大值为：\\n',np.max(winequality_trainScaler))\n",
    "# print('\\n标准差标准化前测试集数据的最小值为：\\n',np.min(winequality_data_test))\n",
    "# print('\\n标准差标准化后测试集数据的最小值为：\\n',np.min(winequality_testScaler))\n",
    "# print('\\n标准差标准化前测试集数据的最大值为：\\n',np.max(winequality_data_test))\n",
    "# print('\\n标准差标准化后测试集数据的最大值为：\\n',np.max(winequality_testScaler))"
   ]
  },
  {
   "cell_type": "markdown",
   "metadata": {},
   "source": [
    "对wine和winequlity数据集进行标准差标准化"
   ]
  },
  {
   "cell_type": "code",
   "execution_count": 10,
   "metadata": {},
   "outputs": [
    {
     "name": "stdout",
     "output_type": "stream",
     "text": [
      "PCA降维前训练集数据的形状为： (142, 13)\n",
      "PCA降维后训练集数据的形状为： (142, 3)\n",
      "PCA降维前测试集数据的形状为： (36, 13)\n",
      "PCA降维后测试集数据的形状为： (36, 3)\n"
     ]
    }
   ],
   "source": [
    "#对wine数据集进行PCA降维\n",
    "\n",
    "from sklearn.decomposition import PCA\n",
    "wine_pca_model = PCA(n_components=3).fit(wine_train_stdScaler) ##生成规则，降到3维\n",
    "wine_train_stdPca = wine_pca_model.transform(wine_train_stdScaler) ##将规则应用于训练集\n",
    "wine_test_stdPca = wine_pca_model.transform(wine_test_stdScaler) ##将规则应用于测试集\n",
    "print('PCA降维前训练集数据的形状为：',wine_train_stdScaler.shape)\n",
    "print('PCA降维后训练集数据的形状为：',wine_train_stdPca.shape)\n",
    "print('PCA降维前测试集数据的形状为：',wine_test_stdScaler.shape)\n",
    "print('PCA降维后测试集数据的形状为：',wine_test_stdPca.shape)\n"
   ]
  },
  {
   "cell_type": "code",
   "execution_count": 11,
   "metadata": {
    "scrolled": true
   },
   "outputs": [
    {
     "name": "stdout",
     "output_type": "stream",
     "text": [
      "PCA降维前训练集数据的形状为： (1279, 11)\n",
      "PCA降维后训练集数据的形状为： (1279, 3)\n",
      "PCA降维前测试集数据的形状为： (320, 11)\n",
      "PCA降维后测试集数据的形状为： (320, 3)\n"
     ]
    }
   ],
   "source": [
    "#对wine_quality数据集进行PCA降维\n",
    "\n",
    "winequality_pca_model = PCA(n_components=3).fit(winequality_train_stdScaler) ##生成规则，降到3维 \n",
    "winequality_train_stdPca = winequality_pca_model.transform(winequality_train_stdScaler) ##将规则应用于训练集\n",
    "winequality_test_stdPca = winequality_pca_model.transform(winequality_test_stdScaler) ##将规则应用于测试集\n",
    "print('PCA降维前训练集数据的形状为：',winequality_train_stdScaler.shape)\n",
    "print('PCA降维后训练集数据的形状为：',winequality_train_stdPca.shape)\n",
    "print('PCA降维前测试集数据的形状为：',winequality_test_stdScaler.shape)\n",
    "print('PCA降维后测试集数据的形状为：',winequality_test_stdPca.shape)"
   ]
  },
  {
   "cell_type": "markdown",
   "metadata": {},
   "source": [
    "## 实训2：构建基于wine数据集的K-Means聚类模型"
   ]
  },
  {
   "cell_type": "code",
   "execution_count": 12,
   "metadata": {},
   "outputs": [
    {
     "name": "stdout",
     "output_type": "stream",
     "text": [
      "构建的K-Means模型为：\n",
      " KMeans(algorithm='auto', copy_x=True, init='k-means++', max_iter=300,\n",
      "    n_clusters=3, n_init=10, n_jobs=1, precompute_distances='auto',\n",
      "    random_state=123, tol=0.0001, verbose=0)\n"
     ]
    }
   ],
   "source": [
    "#根据实训1的wine数据集处理的结果，构建聚类数目为3的K-Means模型\n",
    "\n",
    "from sklearn.cluster import KMeans\n",
    "\n",
    "kmeans = KMeans(n_clusters=3,random_state=123).fit(wine_train_stdPca, wine_target_train) ##构建并训练聚类模型(分3类)\n",
    "print('构建的K-Means模型为：\\n',kmeans)\n"
   ]
  },
  {
   "cell_type": "code",
   "execution_count": 13,
   "metadata": {
    "scrolled": true
   },
   "outputs": [
    {
     "name": "stdout",
     "output_type": "stream",
     "text": [
      "\n",
      "聚类数目为3的K-Means模型的wine_testPca数据预测类别为：\n",
      " [1 1 2 3 3 3 1 1 1 1 1 2 3 1 2 2 1 3 1 1 1 1 2 1 2 3 3 3 2 3 3 3 1 3 3 2]\n",
      "\n",
      "原数据为：\n",
      " [2 2 3 1 1 1 2 2 2 2 2 3 1 2 3 3 2 1 2 2 2 2 3 2 3 1 1 1 2 1 1 1 2 1 1 3]\n",
      "\n",
      "wine数据聚3类FMI评价分值为： 0.9490014639001938\n"
     ]
    }
   ],
   "source": [
    "#对比真实标签和聚类标签求取FMI\n",
    "result = kmeans.predict(wine_test_stdPca) #使用构建的模型进行预测\n",
    "print('\\n聚类数目为3的K-Means模型的wine_testPca数据预测类别为：\\n', result+1)\n",
    "print('\\n原数据为：\\n', np.array(wine_target_test))\n",
    "\n",
    "from sklearn.metrics import fowlkes_mallows_score ##FMI评价法\n",
    "\n",
    "kmeans_score = fowlkes_mallows_score(wine_target_test, result)\n",
    "print('\\nwine数据聚3类FMI评价分值为：', kmeans_score)"
   ]
  },
  {
   "cell_type": "markdown",
   "metadata": {},
   "source": [
    "数据对比有差距（数值代表的不同），FMI评价分值为： 0.9490014639001938"
   ]
  },
  {
   "cell_type": "code",
   "execution_count": 15,
   "metadata": {},
   "outputs": [
    {
     "name": "stdout",
     "output_type": "stream",
     "text": [
      "wine数据聚2类FMI评价分值为：0.599251\n",
      "wine数据聚3类FMI评价分值为：0.949001\n",
      "wine数据聚4类FMI评价分值为：0.886895\n",
      "wine数据聚5类FMI评价分值为：0.725878\n",
      "wine数据聚6类FMI评价分值为：0.696665\n",
      "wine数据聚7类FMI评价分值为：0.620704\n",
      "wine数据聚8类FMI评价分值为：0.536403\n",
      "wine数据聚9类FMI评价分值为：0.567133\n",
      "wine数据聚10类FMI评价分值为：0.463421\n"
     ]
    },
    {
     "data": {
      "image/png": "[encoded data removed]",
      "text/plain": [
       "<Figure size 720x432 with 1 Axes>"
      ]
     },
     "metadata": {},
     "output_type": "display_data"
    }
   ],
   "source": [
    "#在聚类数目为2-10类时，确定最优聚类数目\n",
    "import matplotlib.pyplot as plt\n",
    "## 设置字体为SimHei显示中文 \n",
    "plt.rcParams['font.sans-serif'] = 'SimHei' \n",
    "## 设置正常显示符号 \n",
    "plt.rcParams['axes.unicode_minus'] = False\n",
    "\n",
    "FMIscore = []\n",
    "for i in range(2,11): ##分别评价K-Means聚类模型聚成2-10类的情况\n",
    "    kmeans = KMeans(n_clusters = i,random_state=123).fit(wine_train_stdPca, wine_target_train) ##构建并训练模型\n",
    "    score = fowlkes_mallows_score(wine_target_test, kmeans.predict(wine_test_stdPca))\n",
    "    FMIscore.append(score)\n",
    "    print('wine数据聚%d类FMI评价分值为：%f' %(i,score))\n",
    "    \n",
    "plt.figure(figsize=(10,6))\n",
    "plt.plot(range(2,11),FMIscore,linewidth=1.5, linestyle=\"-\")\n",
    "plt.title(\"FMI评判折线图\")\n",
    "plt.savefig('FMI评判折线图.png')\n",
    "plt.show()"
   ]
  },
  {
   "cell_type": "markdown",
   "metadata": {},
   "source": [
    "由以上数据，聚成3类数据最好"
   ]
  },
  {
   "cell_type": "code",
   "execution_count": 16,
   "metadata": {
    "scrolled": false
   },
   "outputs": [
    {
     "data": {
      "image/png": "[encoded data removed]",
      "text/plain": [
       "<Figure size 720x432 with 1 Axes>"
      ]
     },
     "metadata": {},
     "output_type": "display_data"
    }
   ],
   "source": [
    "#求取模型的轮廓系数，绘制轮廓系数折线图，确定最优聚类数目\n",
    "from sklearn.metrics import silhouette_score ##轮廓系统评价法\n",
    "\n",
    "silhouettteScore = []\n",
    "for i in range(2,11): ##分别评价K-Means聚类模型聚成2-10类的情况\n",
    "    kmeans = KMeans(n_clusters = i,random_state=123).fit(wine_train_stdPca) ##构建并训练模型\n",
    "    score = silhouette_score(wine_train_stdPca, kmeans.predict(wine_train_stdPca))#对训练结果评分\n",
    "    silhouettteScore.append(score)\n",
    "plt.figure(figsize=(10,6))\n",
    "plt.plot(range(2,11),silhouettteScore,linewidth=1.5, linestyle=\"-\")\n",
    "plt.title('轮廓系数折线图')\n",
    "plt.savefig('轮廓系数折线图.png')\n",
    "plt.show()"
   ]
  },
  {
   "cell_type": "code",
   "execution_count": 17,
   "metadata": {
    "scrolled": false
   },
   "outputs": [
    {
     "name": "stdout",
     "output_type": "stream",
     "text": [
      "wine数据聚2类calinski_harabaz指数为：107.390154\n",
      "wine数据聚3类calinski_harabaz指数为：134.846826\n",
      "wine数据聚4类calinski_harabaz指数为：119.867057\n",
      "wine数据聚5类calinski_harabaz指数为：107.884067\n",
      "wine数据聚6类calinski_harabaz指数为：102.033290\n",
      "wine数据聚7类calinski_harabaz指数为：98.058156\n",
      "wine数据聚8类calinski_harabaz指数为：91.435875\n",
      "wine数据聚9类calinski_harabaz指数为：90.128693\n",
      "wine数据聚10类calinski_harabaz指数为：94.568354\n"
     ]
    },
    {
     "data": {
      "image/png": "[encoded data removed]",
      "text/plain": [
       "<Figure size 720x432 with 1 Axes>"
      ]
     },
     "metadata": {},
     "output_type": "display_data"
    }
   ],
   "source": [
    "#求取Calinski-Harabasz指数，确定最优聚类数目\n",
    "from sklearn.metrics import calinski_harabaz_score ##Calinski-Harabasz指数评价法\n",
    "\n",
    "calinski_score = []\n",
    "for i in range(2,11): ##分别评价K-Means聚类模型聚成2-10类的情况\n",
    "    kmeans = KMeans(n_clusters = i,random_state=123).fit(wine_train_stdPca) ##构建并训练模型\n",
    "    score = calinski_harabaz_score(wine_train_stdPca,kmeans.predict(wine_train_stdPca))\n",
    "    calinski_score.append(score)\n",
    "    print('wine数据聚%d类calinski_harabaz指数为：%f'%(i,score))\n",
    "    \n",
    "plt.figure(figsize=(10,6))\n",
    "plt.plot(range(2,11),calinski_score,linewidth=1.5, linestyle=\"-\")\n",
    "plt.title('calinski_harabaz指数折线图')\n",
    "plt.savefig('calinski_harabaz指数折线图.png')\n",
    "plt.show()"
   ]
  },
  {
   "cell_type": "markdown",
   "metadata": {},
   "source": [
    "由以上数据，聚成3类数据最好"
   ]
  },
  {
   "cell_type": "markdown",
   "metadata": {},
   "source": [
    "## 实训3：构建基于wine数据集的SVM分类模型"
   ]
  },
  {
   "cell_type": "code",
   "execution_count": 18,
   "metadata": {},
   "outputs": [],
   "source": [
    "#读取wine数据集，区分标签和数据，将wine数据集划分为训练集和测试集 -> 已在实训一中完成\n",
    "from sklearn.preprocessing import MinMaxScaler  #使用离差标准化方法标准化wine数据集\n",
    "wine_MMScaler = MinMaxScaler().fit(wine_data_train) ##生成规则\n",
    "wine_train_MMScaler = wine_MMScaler.transform(wine_data_train) ##将规则应用于训练集\n",
    "wine_test_MMScaler = wine_MMScaler.transform(wine_data_test) ##将规则应用于测试集\n",
    "\n",
    "# print('离差标准化前训练集数据的最小值为：\\n',np.min(wine_data_train))\n",
    "# print('\\n离差标准化后训练集数据的最小值为：\\n',np.min(wine_trainMMScaler))\n",
    "# print('\\n离差标准化前训练集数据的最大值为：\\n',np.max(wine_data_train))\n",
    "# print('\\n离差标准化后训练集数据的最大值为：\\n',np.max(wine_trainMMScaler))\n",
    "# print('\\n离差标准化前测试集数据的最小值为：\\n',np.min(wine_data_test))\n",
    "# print('\\n离差标准化后测试集数据的最小值为：\\n',np.min(wine_testMMScaler))\n",
    "# print('\\n离差标准化前测试集数据的最大值为：\\n',np.max(wine_data_test))\n",
    "# print('\\n离差标准化后测试集数据的最大值为：\\n',np.max(wine_testMMScaler))"
   ]
  },
  {
   "cell_type": "code",
   "execution_count": 19,
   "metadata": {},
   "outputs": [
    {
     "name": "stdout",
     "output_type": "stream",
     "text": [
      "建立的SVM模型为：\n",
      " SVC(C=1.0, cache_size=200, class_weight=None, coef0=0.0,\n",
      "  decision_function_shape='ovr', degree=3, gamma='auto', kernel='rbf',\n",
      "  max_iter=-1, probability=False, random_state=None, shrinking=True,\n",
      "  tol=0.001, verbose=False)\n",
      "\n",
      "预测结果为：\n",
      " [2 2 3 1 1 1 2 2 2 2 2 3 1 2 3 3 2 1 2 2 2 2 3 2 3 1 1 1 3 1 1 1 2 1 1 3]\n"
     ]
    }
   ],
   "source": [
    "#构建SVM模型，并预测测试集结果\n",
    "from sklearn.svm import SVC\n",
    "\n",
    "## 建立SVM模型\n",
    "svm = SVC().fit(wine_train_MMScaler,wine_target_train)\n",
    "print('建立的SVM模型为：\\n',svm)\n",
    "## 预测测试集结果\n",
    "wine_target_pred = svm.predict(wine_test_MMScaler)\n",
    "print('\\n预测结果为：\\n',wine_target_pred)"
   ]
  },
  {
   "cell_type": "code",
   "execution_count": 20,
   "metadata": {
    "scrolled": false
   },
   "outputs": [
    {
     "name": "stdout",
     "output_type": "stream",
     "text": [
      "预测对的结果数目为： 35\n",
      "预测错的的结果数目为： 1\n",
      "预测结果准确率为： 0.9722222222222222\n"
     ]
    }
   ],
   "source": [
    "## 求出预测和真实一样的数目\n",
    "truesum = np.sum(wine_target_pred == wine_target_test )\n",
    "print('预测对的结果数目为：', truesum)\n",
    "print('预测错的的结果数目为：', wine_target_test.shape[0]-truesum)\n",
    "print('预测结果准确率为：', truesum/wine_target_test.shape[0])"
   ]
  },
  {
   "cell_type": "markdown",
   "metadata": {},
   "source": [
    "此模型预测结果准确率为： 0.9722222222222222"
   ]
  },
  {
   "cell_type": "code",
   "execution_count": 21,
   "metadata": {},
   "outputs": [
    {
     "name": "stdout",
     "output_type": "stream",
     "text": [
      "使用SVM预测wine数据的准确率为： 0.9722222222222222\n",
      "使用SVM预测breast_cancer数据的Cohen’s Kappa系数为： 0.9566787003610109\n"
     ]
    }
   ],
   "source": [
    "from sklearn.metrics import accuracy_score,precision_score, recall_score,f1_score,cohen_kappa_score\n",
    "print('使用SVM预测wine数据的准确率为：', accuracy_score(wine_target_test,wine_target_pred))\n",
    "# print('使用SVM预测wine数据的精确率为：', precision_score(wine_target_test,wine_target_pred))\n",
    "# print('使用SVM预测wine数据的召回率为：', recall_score(wine_target_test,wine_target_pred))\n",
    "# print('使用SVM预测wine数据的F1值为：', f1_score(wine_target_test,wine_target_pred))\n",
    "print('使用SVM预测breast_cancer数据的Cohen’s Kappa系数为：',\n",
    "cohen_kappa_score(wine_target_test,wine_target_pred))"
   ]
  },
  {
   "cell_type": "code",
   "execution_count": 22,
   "metadata": {
    "scrolled": false
   },
   "outputs": [
    {
     "name": "stdout",
     "output_type": "stream",
     "text": [
      "wine数据集的SVM分类报告为：\n",
      "              precision    recall  f1-score   support\n",
      "\n",
      "          1       1.00      1.00      1.00        13\n",
      "          2       1.00      0.94      0.97        16\n",
      "          3       0.88      1.00      0.93         7\n",
      "\n",
      "avg / total       0.98      0.97      0.97        36\n",
      "\n"
     ]
    },
    {
     "data": {
      "text/plain": [
       "'             precision    recall  f1-score   support\\n\\n          1       1.00      1.00      1.00        13\\n          2       1.00      0.94      0.97        16\\n          3       0.88      1.00      0.93         7\\n\\navg / total       0.98      0.97      0.97        36\\n'"
      ]
     },
     "execution_count": 22,
     "metadata": {},
     "output_type": "execute_result"
    }
   ],
   "source": [
    "#打印出分类报告，评价分类模型性能\n",
    "from sklearn.metrics import classification_report\n",
    "\n",
    "report = classification_report(wine_target_test,wine_target_pred)\n",
    "print('wine数据集的SVM分类报告为：\\n', report)\n",
    "report"
   ]
  },
  {
   "cell_type": "markdown",
   "metadata": {},
   "source": [
    "由打印出的报告可以看出，使用SVM预测wine数据的准确率为0.98；精确率为0.98'；召回率为0.97；F1值为0.97。\n",
    "同时由之前数据得出准确率为： 0.9722222222222222；Cohen’s Kappa系数为0.9566787003610109"
   ]
  },
  {
   "cell_type": "code",
   "execution_count": 23,
   "metadata": {},
   "outputs": [
    {
     "data": {
      "image/png": "[encoded data removed]",
      "text/plain": [
       "<Figure size 720x720 with 1 Axes>"
      ]
     },
     "metadata": {},
     "output_type": "display_data"
    }
   ],
   "source": [
    "p1 = plt.figure(figsize=(10, 10)) ## 确定画布大小\n",
    "plt.title('分类报告散点图') ## 添加标题 \n",
    "plt.xlabel('分类报告类别') ## 添加x轴的名称 \n",
    "\n",
    "x = ['precision','recall','f1-score']\n",
    "name = ['1','2','3']\n",
    "y1 = ['1.00','1.00','1.00']\n",
    "y2 = ['1.00','0.94','0.97']\n",
    "y3 = ['0.88','1.00','0.93']\n",
    "\n",
    "plt.scatter(x, y1, marker='o') ## 绘制散点图 \n",
    "plt.scatter(x, y2, marker='o') ## 绘制散点图\n",
    "plt.scatter(x, y3, marker='o') ## 绘制散点图\n",
    "\n",
    "plt.xticks(np.arange(4), x, rotation=45)\n",
    "plt.legend(name)\n",
    "\n",
    "plt.savefig('分类报告散点图.png') \n",
    "plt.show()"
   ]
  },
  {
   "cell_type": "markdown",
   "metadata": {},
   "source": [
    "## 实训4：构建基于wine_quality数据集的回归模型"
   ]
  },
  {
   "cell_type": "markdown",
   "metadata": {},
   "source": [
    "以上实训一已经处理了wine_quality数据\n",
    "\n",
    "winequality数据为winequality_data\n",
    "\n",
    "winequality标签为winequality_target\n",
    "\n",
    "数据训练集数据为winequality_data_train\n",
    "\n",
    "数据测试集数据为winequality_data_test\n",
    "\n",
    "标签训练集数据为winequality_target_train\n",
    "\n",
    "标签测试集数据为winequality_target_test"
   ]
  },
  {
   "cell_type": "code",
   "execution_count": 24,
   "metadata": {},
   "outputs": [
    {
     "name": "stdout",
     "output_type": "stream",
     "text": [
      "建立的LinearRegression模型为： \n",
      " LinearRegression(copy_X=True, fit_intercept=True, n_jobs=1, normalize=False)\n",
      "\n",
      "预测前20个结果为： \n",
      " [5.97552476 5.41290907 6.4788986  5.88531673 5.53108352 5.63340974\n",
      " 6.08527746 5.34838221 5.9485056  5.27712402 5.57318272 6.09958722\n",
      " 6.1276882  5.77052574 5.22260393 5.39729048 5.05238924 6.47665191\n",
      " 5.07197092 6.39157998]\n"
     ]
    }
   ],
   "source": [
    "#根据wine_quality数据集处理的结果，构建线性回归模型\n",
    "from sklearn.linear_model import LinearRegression\n",
    "\n",
    "winequality_lr = LinearRegression().fit(winequality_data_train, winequality_target_train) ## 建立线性回归模型\n",
    "print('建立的LinearRegression模型为：','\\n',winequality_lr)\n",
    "\n",
    "winequality_target_lr_pred = winequality_lr.predict(winequality_data_test) ## 预测训练集结果\n",
    "print('\\n预测前20个结果为：','\\n', winequality_target_lr_pred[:20])"
   ]
  },
  {
   "cell_type": "code",
   "execution_count": 25,
   "metadata": {},
   "outputs": [
    {
     "name": "stdout",
     "output_type": "stream",
     "text": [
      "建立的梯度提升回归模型为： \n",
      " GradientBoostingRegressor(alpha=0.9, criterion='friedman_mse', init=None,\n",
      "             learning_rate=0.1, loss='ls', max_depth=3, max_features=None,\n",
      "             max_leaf_nodes=None, min_impurity_decrease=0.0,\n",
      "             min_impurity_split=None, min_samples_leaf=1,\n",
      "             min_samples_split=2, min_weight_fraction_leaf=0.0,\n",
      "             n_estimators=100, presort='auto', random_state=None,\n",
      "             subsample=1.0, verbose=0, warm_start=False)\n",
      "\n",
      "预测前20个结果为： \n",
      " [6.06236435 5.26521443 6.83837112 6.10693634 5.66404195 5.65942284\n",
      " 6.31781869 5.07832429 5.84179215 5.59685372 5.70937642 6.48274341\n",
      " 6.38529459 6.08590898 5.38059983 4.94245948 4.99344366 6.99809411\n",
      " 5.39239616 5.79884312]\n"
     ]
    }
   ],
   "source": [
    "#根据wine_quality数据集处理的结果，构建梯度提升回归模型\n",
    "from sklearn.ensemble import GradientBoostingRegressor\n",
    "\n",
    "winequality_gbr = GradientBoostingRegressor().fit(winequality_data_train, winequality_target_train)\n",
    "print('建立的梯度提升回归模型为：','\\n',winequality_gbr)\n",
    "\n",
    "winequality_target_gbr_pred = winequality_gbr.predict(winequality_data_test) ## 预测训练集结果\n",
    "print('\\n预测前20个结果为：','\\n', winequality_target_gbr_pred[:20])"
   ]
  },
  {
   "cell_type": "code",
   "execution_count": 26,
   "metadata": {},
   "outputs": [
    {
     "name": "stdout",
     "output_type": "stream",
     "text": [
      "线性回归模型的平均绝对误差为： 0.4795256028183544\n",
      "线性回归模型的均方误差为： 0.37943029099718717\n",
      "线性回归模型的中值绝对误差为： 0.38424121685705526\n",
      "线性回归模型的可解释方差值为： 0.3437580096951873\n",
      "winequality数据线性回归模型的R方值为： 0.34297785108712187\n",
      "\n",
      "梯度提升回归模型的平均绝对误差为： 0.478124226820044\n",
      "梯度提升回归模型的均方误差为： 0.37273310957107786\n",
      "梯度提升回归模型的中值绝对误差为： 0.38481106676569077\n",
      "梯度提升回归模型的可解释方差值为： 0.3554502457068912\n",
      "winequality数据梯度提升回归模型的R方值为： 0.3545747020414237\n"
     ]
    }
   ],
   "source": [
    "#结合真实评分和预测评分，计算均方误差，中值绝对误差，可解释方差值\n",
    "from sklearn.metrics import mean_absolute_error,mean_squared_error,median_absolute_error,explained_variance_score,r2_score\n",
    "\n",
    "print('线性回归模型的平均绝对误差为：', mean_absolute_error(winequality_target_test,winequality_target_lr_pred))\n",
    "print('线性回归模型的均方误差为：', mean_squared_error(winequality_target_test,winequality_target_lr_pred))\n",
    "print('线性回归模型的中值绝对误差为：', median_absolute_error(winequality_target_test,winequality_target_lr_pred))\n",
    "print('线性回归模型的可解释方差值为：', explained_variance_score(winequality_target_test, winequality_target_lr_pred))\n",
    "print('winequality数据线性回归模型的R方值为：', r2_score(winequality_target_test,winequality_target_lr_pred))\n",
    "\n",
    "print('\\n梯度提升回归模型的平均绝对误差为：', mean_absolute_error(winequality_target_test,winequality_target_gbr_pred))\n",
    "print('梯度提升回归模型的均方误差为：', mean_squared_error(winequality_target_test,winequality_target_gbr_pred))\n",
    "print('梯度提升回归模型的中值绝对误差为：', median_absolute_error(winequality_target_test,winequality_target_gbr_pred))\n",
    "print('梯度提升回归模型的可解释方差值为：', explained_variance_score(winequality_target_test, winequality_target_gbr_pred))\n",
    "print('winequality数据梯度提升回归模型的R方值为：', r2_score(winequality_target_test,winequality_target_gbr_pred))"
   ]
  },
  {
   "cell_type": "code",
   "execution_count": 27,
   "metadata": {},
   "outputs": [
    {
     "data": {
      "image/png": "[encoded data removed]",
      "text/plain": [
       "<Figure size 720x720 with 1 Axes>"
      ]
     },
     "metadata": {},
     "output_type": "display_data"
    }
   ],
   "source": [
    "p1 = plt.figure(figsize=(10, 10)) ## 确定画布大小\n",
    "plt.title('回归模型评判散点图') ## 添加标题 \n",
    "plt.xlabel('评判类别') ## 添加x轴的名称 \n",
    "\n",
    "x = ['平均绝对误差','均方误差','中值绝对误差','可解释方差值','R方值']\n",
    "name = ['线性回归模型','梯度提升回归模型']\n",
    "y1 = [mean_absolute_error(winequality_target_test,winequality_target_lr_pred),\n",
    "      mean_squared_error(winequality_target_test,winequality_target_lr_pred),\n",
    "      median_absolute_error(winequality_target_test,winequality_target_lr_pred),\n",
    "      explained_variance_score(winequality_target_test, winequality_target_lr_pred),\n",
    "      r2_score(winequality_target_test,winequality_target_lr_pred)]\n",
    "y2 = [mean_absolute_error(winequality_target_test,winequality_target_gbr_pred), \n",
    "      mean_squared_error(winequality_target_test,winequality_target_gbr_pred), \n",
    "      median_absolute_error(winequality_target_test,winequality_target_gbr_pred), \n",
    "      explained_variance_score(winequality_target_test, winequality_target_gbr_pred), \n",
    "      r2_score(winequality_target_test,winequality_target_gbr_pred)]\n",
    "\n",
    "plt.scatter(x, y1, marker='o') ## 绘制散点图 \n",
    "plt.scatter(x, y2, marker='o') ## 绘制散点图\n",
    "\n",
    "plt.xticks(np.arange(5), x, rotation=45)\n",
    "plt.legend(name)\n",
    "\n",
    "plt.savefig('回归模型评判散点图.png') \n",
    "plt.show()"
   ]
  },
  {
   "cell_type": "code",
   "execution_count": 28,
   "metadata": {},
   "outputs": [
    {
     "name": "stdout",
     "output_type": "stream",
     "text": [
      "线性回归模型的平均绝对误差减去梯度提升回归模型的为： 0.0014013759983103613\n",
      "线性回归模型的均方误差减去梯度提升回归模型的为： 0.006697181426109311\n",
      "线性回归模型的中值绝对误差减去梯度提升回归模型的为： -0.0005698499086355113\n",
      "线性回归模型的可解释方差值减去梯度提升回归模型的为： -0.011692236011703883\n",
      "线性回归模型的R方值减去梯度提升回归模型的为： -0.011596850954301852\n"
     ]
    }
   ],
   "source": [
    "#根据得分，判定模型的性能优劣\n",
    "\n",
    "print('线性回归模型的平均绝对误差减去梯度提升回归模型的为：', \\\n",
    "      mean_absolute_error(winequality_target_test,winequality_target_lr_pred)-mean_absolute_error(winequality_target_test,winequality_target_gbr_pred))\n",
    "print('线性回归模型的均方误差减去梯度提升回归模型的为：', \\\n",
    "      mean_squared_error(winequality_target_test,winequality_target_lr_pred)-mean_squared_error(winequality_target_test,winequality_target_gbr_pred))\n",
    "print('线性回归模型的中值绝对误差减去梯度提升回归模型的为：',\\\n",
    "      median_absolute_error(winequality_target_test,winequality_target_lr_pred)-median_absolute_error(winequality_target_test,winequality_target_gbr_pred))\n",
    "print('线性回归模型的可解释方差值减去梯度提升回归模型的为：', \\\n",
    "      explained_variance_score(winequality_target_test, winequality_target_lr_pred)-explained_variance_score(winequality_target_test, winequality_target_gbr_pred))\n",
    "print('线性回归模型的R方值减去梯度提升回归模型的为：', \\\n",
    "      r2_score(winequality_target_test,winequality_target_lr_pred)-r2_score(winequality_target_test,winequality_target_gbr_pred))"
   ]
  },
  {
   "cell_type": "markdown",
   "metadata": {},
   "source": [
    "平均绝对误差、均方误差和中值绝对误差的值越靠近0，即值大于0时，越小模型性能越好。\n",
    "\n",
    "可解释方差值和R方值则越靠近1，即值越大，模型性能越好。\n",
    "\n",
    "从相减的数据可以看到，线性回归模型的平均绝对误差和均方误差均大于梯度提升回归模型的，且线性回归模型的可解释方差值和R方值都小于梯度提升回归模型的；仅以中值绝对误差来评判时线性回归模型优于梯度提升回归模型。\n",
    "\n",
    "所以由以上数据，梯度提升回归模型更好。"
   ]
  }
 ],
 "metadata": {
  "kernelspec": {
   "display_name": "Python 3",
   "language": "python",
   "name": "python3"
  },
  "language_info": {
   "codemirror_mode": {
    "name": "ipython",
    "version": 3
   },
   "file_extension": ".py",
   "mimetype": "text/x-python",
   "name": "python",
   "nbconvert_exporter": "python",
   "pygments_lexer": "ipython3",
   "version": "3.6.5"
  }
 },
 "nbformat": 4,
 "nbformat_minor": 2
}
